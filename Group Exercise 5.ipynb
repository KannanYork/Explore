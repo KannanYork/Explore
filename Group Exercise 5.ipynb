{
 "cells": [
  {
   "cell_type": "markdown",
   "id": "c7810198-400d-4b5c-99ac-7c086a5c95b8",
   "metadata": {},
   "source": [
    "# Dark Matter and Stellar Mass functions -- The Role of Feedback in Galaxy Formation"
   ]
  },
  {
   "cell_type": "markdown",
   "id": "6908c5fa-84b5-4ea7-871c-f4ebef30801a",
   "metadata": {},
   "source": [
    "Dark Matter has yet to be detected, but it plays a crucial role in theoretical models of structure formation. According to the current understanding of cosmological structure formation, gravity amplifies the primordial density fluctuations, allowing small over-densities to overcome cosmological expansion and collapse into dark matter halos. Gas flows into these halos, cools radiatively, and forms stars and galaxies. The efficiency with which matter is converted into stars in these haloes depends on a variety of baryonic processes like gas cooling, star and black hole formation and feedback. Over the past decade, significant efforts have been made to comprehend and model these various processes. In this exercise, we will compare the simulated halo mass function with the observed stellar mass function to empirically compute the star formation efficiency in dark matter haloes. The star formation efficiency derived from this data is a powerful tool that can help us perfect our models of structure formation. "
   ]
  },
  {
   "cell_type": "markdown",
   "id": "34a678b6-d974-4b2e-acf1-3a68ccce931c",
   "metadata": {},
   "source": [
    "We will focus on a crucial parameter called the Mass Function, which helps us understand how galaxies and dark matter haloes are distributed throughout the universe. The Mass Function is essentially a histogram that shows the mass distribution of galaxies/halos per unit volume.\n",
    "$$\n",
    "    \\tilde{\\phi}(dM) = \\frac{1}{V}\\frac{dN}{dM} \\ \\ \\ \\ (1).\n",
    "$$\n",
    "It is often expressed in terms of the log of the mass due to the vast range of masses encountered in the universe. By using the logarithmic scale, we can easily capture the significant differences in mass between objects while still keeping the expression manageable.\n",
    "$$\n",
    "    \\phi(d \\ log M) = \\frac{1}{V} \\frac{dN}{d \\ log M} \\ \\ \\ \\ (2).\n",
    "$$"
   ]
  },
  {
   "cell_type": "markdown",
   "id": "482bda50-a7fe-4a3d-a2e1-323f4bd5c44f",
   "metadata": {},
   "source": [
    "## Part I:\n",
    "\n",
    "Let's start by generating a plot of the halo mass function as predicted by the Thesan simulations (<a href=\"https://ui.adsabs.harvard.edu/abs/2022MNRAS.511.4005K/abstract\">Kannan et al. 2022</a>). This prediction is based on the assumption that the $\\Lambda$CDM  cosmolgical model is correct and gravity dictates the large-scale distribution of matter in the universe. To create the plot, we will extract the masses of all the haloes from the simulation's HDF5 format output file (Thesan-Dark-HMF.hdf5). Plot the mass function ($\\phi_\\rm{halo}$, using Eq. 2) on the y-axis (in units of Mpc$^{-3}$ dex$^{-1}$) as a function of the logarithm of the halo mass (M$_\\rm{halo}$, in units of log(M$_\\odot$)) on the x-axis. [Hint: The units of the halo mass and boxsize of the simulation are outlined as header attributes. Include legends and labels in all your plots and plot the y-axis on a log scale.]"
   ]
  },
  {
   "cell_type": "code",
   "execution_count": 1,
   "id": "5d80eef1-1f09-48de-84f4-607d54ac3263",
   "metadata": {},
   "outputs": [],
   "source": [
    "import numpy as np\n",
    "import h5py\n",
    "import matplotlib.pyplot as plt\n",
    "from  scipy.interpolate import interp1d as interp\n",
    "\n",
    "### Your code here"
   ]
  },
  {
   "cell_type": "markdown",
   "id": "6bcefa0f-cfc3-45a5-8e93-6efe20f85e78",
   "metadata": {},
   "source": [
    "## Part II:\n",
    "\n",
    "Let's assume that all the baryons in the universe are converted to stars. What would be the expected stellar mass function ($\\phi_{\\star, \\, \\rm{exp}}$) in such a scenario? Use the cosmic baryon and matter density values derived from Planck satellite observations of the cosmic microwave backgroud ($\\Omega_b=0.0486; \\ \\Omega_m = 0.3089$). [Hint: In order to make an accurate comparison, please replot the halo mass function (from Part I) and use the same units for the axes as in the previous plot.]"
   ]
  },
  {
   "cell_type": "code",
   "execution_count": 2,
   "id": "69bf8d09-0daa-43e5-baf5-31eb35b9cd0c",
   "metadata": {},
   "outputs": [],
   "source": [
    "###"
   ]
  },
  {
   "cell_type": "markdown",
   "id": "4a6427a1-2326-4cf7-9b36-f9499c42d84d",
   "metadata": {},
   "source": [
    "## Part III:\n",
    "\n",
    "We will now analyze how the observed stellar mass function ($\\phi_{\\star, \\, \\rm{obs}}$) compares to the predicted halo mass function from simulations. Read in (from the file -- GSMF_Baldry_2012.txt) and plot the stellar mass function from the Galaxies And Mass Assembly (GAMA) survey conducted using the 2.5 m wide-angle optical telescope at Apache Point Observatory in New Mexico, United States (<a href=\"https://ui.adsabs.harvard.edu/abs/2012MNRAS.421..621B/abstract\">Baldry et al. 2012</a>) as a function of the observed stellar mass (M$_{\\star, \\, \\rm{obs}}$). Compare it to the halo mass ($\\phi_\\rm{halo}$) and expected stellar mass ($\\phi_{\\star, \\, \\rm{exp}}$) functions."
   ]
  },
  {
   "cell_type": "code",
   "execution_count": 3,
   "id": "62b1fbc0-574c-4c5a-bee6-05b2778bcc81",
   "metadata": {},
   "outputs": [],
   "source": [
    "###"
   ]
  },
  {
   "cell_type": "markdown",
   "id": "a48b063c-0096-47c3-b51e-13d3d9764ce9",
   "metadata": {},
   "source": [
    "## Part III\n",
    "\n",
    "We can now begin to get a correspondence between the stellar and halo masses by making a very simple assumption, namely, more massive galaxies reside in more massive haloes. This will give a one-to-one correspondence between galaxies and halos. In this approximation, galaxies and haloes with the same number density ($\\phi$) correspond to each other. Plot the efficiency with which baryons are converted to stars inside halos ($\\epsilon$, on the y-axis) defined as the ratio between the observed stellar mass (from Baldry et al. 2012) and predicted halo mass (from Kannan et al. 2022) at the same number density (see Eq. 3) as a function of observed stellar mass (on the x-axis). Galaxies of what stellar mass are most efficient in converting baryons to stars? [Hint: You can use 1d interpolation to get an estimate of the observed stellar mass for all values of $\\phi_\\rm{halo}$.]\n",
    "$$\n",
    "    \\epsilon = \\frac{\\rm{M}_{\\star, \\, \\rm{obs}}}{\\rm{M}_\\rm{halo}} \\, \\rm{at \\, the \\, same \\, value \\, of \\, } \\phi = \\phi_{\\star, \\, \\rm{obs}} = \\phi_\\rm{halo}  \\ \\ \\ \\ (3).\n",
    "$$"
   ]
  },
  {
   "cell_type": "code",
   "execution_count": 4,
   "id": "8765c6ef-703d-4cfe-9003-2aa2af87519a",
   "metadata": {},
   "outputs": [],
   "source": [
    "###"
   ]
  },
  {
   "cell_type": "markdown",
   "id": "dd6c7056-326f-4f9d-9234-7b461762f335",
   "metadata": {},
   "source": [
    "## Part IV\n",
    "\n",
    "The stellar mass of the Milky Way galaxy is observed to be around $5 \\times 10^{10} \\ \\rm{M}_\\odot$, what is the total halo mass of the MW?"
   ]
  },
  {
   "cell_type": "code",
   "execution_count": 5,
   "id": "3f57238d-dd26-4a2f-b98c-303fb3dbc91e",
   "metadata": {},
   "outputs": [],
   "source": [
    "###"
   ]
  }
 ],
 "metadata": {
  "kernelspec": {
   "display_name": "Python 3 (ipykernel)",
   "language": "python",
   "name": "python3"
  },
  "language_info": {
   "codemirror_mode": {
    "name": "ipython",
    "version": 3
   },
   "file_extension": ".py",
   "mimetype": "text/x-python",
   "name": "python",
   "nbconvert_exporter": "python",
   "pygments_lexer": "ipython3",
   "version": "3.9.6"
  }
 },
 "nbformat": 4,
 "nbformat_minor": 5
}
